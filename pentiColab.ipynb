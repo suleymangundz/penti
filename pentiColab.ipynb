{
  "nbformat": 4,
  "nbformat_minor": 0,
  "metadata": {
    "colab": {
      "provenance": [],
      "authorship_tag": "ABX9TyNmk/iOqywgvjjvrcXylU6W",
      "include_colab_link": true
    },
    "kernelspec": {
      "name": "python3",
      "display_name": "Python 3"
    },
    "language_info": {
      "name": "python"
    }
  },
  "cells": [
    {
      "cell_type": "markdown",
      "metadata": {
        "id": "view-in-github",
        "colab_type": "text"
      },
      "source": [
        "<a href=\"https://colab.research.google.com/github/suleymangundz/penti/blob/main/pentiColab.ipynb\" target=\"_parent\"><img src=\"https://colab.research.google.com/assets/colab-badge.svg\" alt=\"Open In Colab\"/></a>"
      ]
    },
    {
      "cell_type": "code",
      "execution_count": 1,
      "metadata": {
        "colab": {
          "base_uri": "https://localhost:8080/",
          "height": 383
        },
        "id": "yTYiMhff1f3Q",
        "outputId": "5365fbe2-751c-4de6-a9af-7b90da40abd3"
      },
      "outputs": [
        {
          "output_type": "error",
          "ename": "ModuleNotFoundError",
          "evalue": "No module named 'selenium'",
          "traceback": [
            "\u001b[0;31m---------------------------------------------------------------------------\u001b[0m",
            "\u001b[0;31mModuleNotFoundError\u001b[0m                       Traceback (most recent call last)",
            "\u001b[0;32m<ipython-input-1-d944691ba216>\u001b[0m in \u001b[0;36m<cell line: 4>\u001b[0;34m()\u001b[0m\n\u001b[1;32m      2\u001b[0m \u001b[0;32mfrom\u001b[0m \u001b[0mbs4\u001b[0m \u001b[0;32mimport\u001b[0m \u001b[0mBeautifulSoup\u001b[0m\u001b[0;34m\u001b[0m\u001b[0;34m\u001b[0m\u001b[0m\n\u001b[1;32m      3\u001b[0m \u001b[0;32mimport\u001b[0m \u001b[0mpandas\u001b[0m \u001b[0;32mas\u001b[0m \u001b[0mpd\u001b[0m\u001b[0;34m\u001b[0m\u001b[0;34m\u001b[0m\u001b[0m\n\u001b[0;32m----> 4\u001b[0;31m \u001b[0;32mfrom\u001b[0m \u001b[0mselenium\u001b[0m \u001b[0;32mimport\u001b[0m \u001b[0mwebdriver\u001b[0m\u001b[0;34m\u001b[0m\u001b[0;34m\u001b[0m\u001b[0m\n\u001b[0m\u001b[1;32m      5\u001b[0m \u001b[0;32mfrom\u001b[0m \u001b[0mselenium\u001b[0m\u001b[0;34m.\u001b[0m\u001b[0mwebdriver\u001b[0m\u001b[0;34m.\u001b[0m\u001b[0mcommon\u001b[0m\u001b[0;34m.\u001b[0m\u001b[0mby\u001b[0m \u001b[0;32mimport\u001b[0m \u001b[0mBy\u001b[0m\u001b[0;34m\u001b[0m\u001b[0;34m\u001b[0m\u001b[0m\n\u001b[1;32m      6\u001b[0m \u001b[0;32mfrom\u001b[0m \u001b[0mselenium\u001b[0m\u001b[0;34m.\u001b[0m\u001b[0mwebdriver\u001b[0m\u001b[0;34m.\u001b[0m\u001b[0mchrome\u001b[0m\u001b[0;34m.\u001b[0m\u001b[0mservice\u001b[0m \u001b[0;32mimport\u001b[0m \u001b[0mService\u001b[0m\u001b[0;34m\u001b[0m\u001b[0;34m\u001b[0m\u001b[0m\n",
            "\u001b[0;31mModuleNotFoundError\u001b[0m: No module named 'selenium'",
            "",
            "\u001b[0;31m---------------------------------------------------------------------------\u001b[0;32m\nNOTE: If your import is failing due to a missing package, you can\nmanually install dependencies using either !pip or !apt.\n\nTo view examples of installing some common dependencies, click the\n\"Open Examples\" button below.\n\u001b[0;31m---------------------------------------------------------------------------\u001b[0m\n"
          ],
          "errorDetails": {
            "actions": [
              {
                "action": "open_url",
                "actionText": "Open Examples",
                "url": "/notebooks/snippets/importing_libraries.ipynb"
              }
            ]
          }
        }
      ],
      "source": [
        "\n",
        "\n",
        "import requests\n",
        "from bs4 import BeautifulSoup\n",
        "import pandas as pd\n",
        "from selenium import webdriver\n",
        "from selenium.webdriver.common.by import By\n",
        "from selenium.webdriver.chrome.service import Service\n",
        "from selenium.common.exceptions import NoSuchElementException\n",
        "from openpyxl import Workbook\n",
        "\n",
        "# WebDriver'ı başlatma\n",
        "driver_path = \"C:\\\\Users\\\\YPN-1067\\\\Documents\\\\PYTHONss\\\\ChromeDriver\\\\chromedriver-win64\\\\chromedriver.exe\"\n",
        "data_profile = \"C:\\\\Users\\\\YPN-1067\\\\AppData\\\\Local\\\\Google\\\\Chrome\\\\User Data\\\\Profile 1\\\\\"\n",
        "chrome_options = webdriver.ChromeOptions()\n",
        "chrome_options.add_argument(\"user-data-dir=\" + data_profile)\n",
        "service = Service(driver_path)\n",
        "driver = webdriver.Chrome(service=service, options=chrome_options)\n",
        "\n",
        "# Base URL ve sayfa aralığını tanımlama\n",
        "base_url = \"https://www.trendyol.com/sr?q=penti&qt=penti&st=penti&os=1\"\n",
        "start_page = 1\n",
        "end_page = 1\n",
        "\n",
        "# Boş bir DataFrame oluşturma\n",
        "data = []\n",
        "\n",
        "# Her bir sayfa için işlem yapma\n",
        "for page_number in range(start_page, end_page + 1):\n",
        "    url = base_url + str(page_number)\n",
        "    r = requests.get(url)\n",
        "    soup = BeautifulSoup(r.content, \"html.parser\", from_encoding=\"utf-8\")\n",
        "    products = soup.find_all(\"div\", attrs={\"class\": \"p-card-wrppr with-campaign-view\"})\n",
        "    for product in products:\n",
        "        product_links = product.find_all(\"div\", attrs={\"class\": \"card-border\"})\n",
        "        product_name = product.find(\"div\", attrs={\"class\": \"prdct-desc-cntnr\"})\n",
        "        product_name_1 = product_name.find(\"span\", attrs={\"class\": \"prdct-desc-cntnr-name hasRatings\"})\n",
        "        product_name_clear = product_name.text.strip()[:5] if product_name else None\n",
        "        product_name_1_clear = product_name_1.text.strip() if product_name_1 else None\n",
        "        product_price = product.find(\"div\", attrs={\"class\": \"prc-box-dscntd\"})\n",
        "        original_price = product_price.text.strip() if product_price else None\n",
        "\n",
        "        for link in product_links:\n",
        "            link_continue = link.find(\"a\")\n",
        "            if link_continue:\n",
        "                link_continue = link_continue.get(\"href\")\n",
        "                link_all = f\"https://www.trendyol.com{link_continue}\"\n",
        "\n",
        "                driver.get(link_all)\n",
        "                driver.implicitly_wait(5)\n",
        "\n",
        "                try:\n",
        "                    rating_element = driver.find_element(By.CLASS_NAME, \"rating-line-count\")\n",
        "                    rating = rating_element.text\n",
        "                except NoSuchElementException:\n",
        "                    rating = None\n",
        "\n",
        "                try:\n",
        "                    degerleme_element = driver.find_element(By.CLASS_NAME, 'total-review-count')\n",
        "                    degerleme = degerleme_element.text\n",
        "                except NoSuchElementException:\n",
        "                    degerleme = None\n",
        "\n",
        "                try:\n",
        "                    favorite_element = driver.find_element(By.CLASS_NAME, 'favorite-count')\n",
        "                    favorite = favorite_element.text\n",
        "                except NoSuchElementException:\n",
        "                    favorite = None\n",
        "\n",
        "                try:\n",
        "                    Soru_Cevap_Element = driver.find_element(By.CLASS_NAME, \"answered-questions-count\")\n",
        "                    Soru_Cevap = Soru_Cevap_Element.text\n",
        "                except NoSuchElementException:\n",
        "                    Soru_Cevap = None\n",
        "\n",
        "                # Ürün detaylarındaki bilgileri çekme\n",
        "                detail = requests.get(link_all)\n",
        "                detail_soup = BeautifulSoup(detail.content, \"html.parser\")\n",
        "                supplier_info = detail_soup.find('div', class_='supplier-info')\n",
        "                if supplier_info:\n",
        "                    spans = supplier_info.find_all('span')  # Tüm span etiketlerini bul\n",
        "                    seller_name, seller_unvan, Satici_Sehir = None, None, None\n",
        "                    for span in spans:\n",
        "                        if 'Satıcı:' in span.text:\n",
        "                            seller_name = span.find_next('b').get_text(strip=True)\n",
        "                        elif 'Satıcı Ünvanı:' in span.text:\n",
        "                            seller_unvan = span.find_next('b').get_text(strip=True)\n",
        "                        elif 'Şehir:' in span.text:\n",
        "                            Satici_Sehir = span.find_next('b').get_text(strip=True)\n",
        "\n",
        "                # Breadcrumb bilgilerini çekme\n",
        "                breadcrumbs = detail_soup.find('div', class_='product-detail-breadcrumb').find_all('a')\n",
        "                breadcrumb_data = [breadcrumb.get('title', breadcrumb.text) for breadcrumb in breadcrumbs]\n",
        "\n",
        "                # Ürün bilgilerini products_data'ya ekleme\n",
        "                products_data = {\n",
        "                    \"Link\": link_all,\n",
        "                    \"Brand\": product_name_clear,\n",
        "                    \"Product\": product_name_1_clear,\n",
        "                    \"Original Price\": original_price,\n",
        "                    \"Satici İsim\": seller_name,\n",
        "                    \"satici Unvan\": seller_unvan,\n",
        "                    \"Satici Sehir\": Satici_Sehir,\n",
        "                    \"Rating\": rating,\n",
        "                    \"Degerleme\": degerleme,\n",
        "                    \"Favorite\": favorite,\n",
        "                    \"Soru Cevap\": Soru_Cevap,\n",
        "                    # Breadcrumb bilgilerini ekleyin\n",
        "                    **{f\"Ürün Detayları {i+1}\": breadcrumb_data[i] for i in range(len(breadcrumb_data))}\n",
        "                }\n",
        "                data.append(products_data)\n",
        "\n",
        "# DataFrame oluşturma\n",
        "df = pd.DataFrame(data)\n",
        "print(df)\n",
        "\n",
        "# CSV'ye yazma\n",
        "df.to_csv('11Penti_all_data.csv', encoding=\"utf-8\")\n",
        "\n",
        "# %%\n"
      ]
    }
  ]
}